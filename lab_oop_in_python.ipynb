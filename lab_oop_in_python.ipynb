{
  "cells": [
    {
      "cell_type": "markdown",
      "metadata": {
        "id": "56Vb-ZP7kEUq"
      },
      "source": [
        "# LAB | Object-Oriented Programming (OOP) in Python"
      ]
    },
    {
      "cell_type": "markdown",
      "metadata": {
        "id": "HUfCrR-AkEUr"
      },
      "source": [
        "## Overview\n",
        "This exercise notebook will help you practice Object-Oriented Programming concepts in Python. You will create classes, instantiate objects, and use inheritance to build more complex structures.\n",
        "\n",
        "## Instructions\n",
        "- Complete each exercise by writing the appropriate code in the provided space.\n",
        "- Test your code to ensure it works as expected.\n",
        "- Use the hints provided if you get stuck."
      ]
    },
    {
      "cell_type": "markdown",
      "metadata": {
        "id": "0LqVgMA7kEUr"
      },
      "source": [
        "### Exercise 1: Create a Class with Instance Attributes\n",
        "Write a Python program to create a `Vehicle` class with `max_speed` and `mileage` instance attributes."
      ]
    },
    {
      "cell_type": "code",
      "execution_count": 4,
      "metadata": {
        "colab": {
          "base_uri": "https://localhost:8080/"
        },
        "id": "qFCp5CxdkEUs",
        "outputId": "74e4ef7a-e465-4072-ea4a-702ad84a8c88"
      },
      "outputs": [
        {
          "output_type": "stream",
          "name": "stdout",
          "text": [
            "200 1000\n"
          ]
        }
      ],
      "source": [
        "# Your code here\n",
        "class Vehicle:\n",
        "    # Hint: Define __init__ method with parameters for max_speed and mileage\n",
        "    def __init__(self, max_speed, mileage):\n",
        "        self.max_speed = max_speed\n",
        "        self.mileage = mileage\n",
        "\n",
        "# Example instantiation\n",
        "modelX = Vehicle( max_speed = 200 , mileage = 1000)  # Create an instance of Vehicle\n",
        "\n",
        "# Print attributes\n",
        "print(modelX.max_speed, modelX.mileage)  # Expected output: (value of max_speed, value of mileage)"
      ]
    },
    {
      "cell_type": "markdown",
      "metadata": {
        "id": "6OlTOTSnkEUs"
      },
      "source": [
        "### Exercise 2: Create a Vehicle Class Without Any Variables and Methods\n",
        "Create a `Vehicle` class without any variables or methods."
      ]
    },
    {
      "cell_type": "code",
      "execution_count": 30,
      "metadata": {
        "colab": {
          "base_uri": "https://localhost:8080/"
        },
        "id": "Ppfivd59kEUt",
        "outputId": "737b4e2b-44d9-42ef-dffd-d843b423d5a5"
      },
      "outputs": [
        {
          "output_type": "stream",
          "name": "stdout",
          "text": [
            "<class '__main__.Vehicle'>\n"
          ]
        }
      ],
      "source": [
        "# Your code here\n",
        "class Vehicle:\n",
        "  #the class doesn't contain any variables or methods.\n",
        "      pass\n",
        "\n",
        "# Example instantiation\n",
        "my_vehicle = Vehicle()\n",
        "print(type(my_vehicle))  # Expected output: <class '__main__.Vehicle'>"
      ]
    },
    {
      "cell_type": "markdown",
      "metadata": {
        "id": "NKAptSJGkEUt"
      },
      "source": [
        "### Exercise 3: Create a Child Class Bus\n",
        "Create a child class `Bus` that will inherit all of the variables and methods of the `Vehicle` class."
      ]
    },
    {
      "cell_type": "code",
      "execution_count": 34,
      "metadata": {
        "colab": {
          "base_uri": "https://localhost:8080/"
        },
        "id": "pD56zSoikEUt",
        "outputId": "6040fe89-c8e1-4647-84cb-614f611d64f2"
      },
      "outputs": [
        {
          "output_type": "stream",
          "name": "stdout",
          "text": [
            "<class '__main__.Bus'>\n"
          ]
        }
      ],
      "source": [
        "# Your code here\n",
        "class Bus(Vehicle): # Bus (inherits from Vehicle)\n",
        "  pass\n",
        "\n",
        "# Example instantiation\n",
        "school_bus = Bus()\n",
        "print(type(school_bus))  # Expected output: <class '__main__.Bus'>"
      ]
    },
    {
      "cell_type": "markdown",
      "metadata": {
        "id": "27PZxXaNkEUu"
      },
      "source": [
        "### Exercise 4: Class Inheritance with Method Overriding\n",
        "Create a `Bus` class that inherits from the `Vehicle` class. Override the `fare()` method to include an extra charge for maintenance."
      ]
    },
    {
      "cell_type": "code",
      "execution_count": 17,
      "metadata": {
        "colab": {
          "base_uri": "https://localhost:8080/"
        },
        "id": "P87mGw9HkEUu",
        "outputId": "2f20b099-7946-41bf-924a-e2371077f89b"
      },
      "outputs": [
        {
          "output_type": "stream",
          "name": "stdout",
          "text": [
            "Base fare with extra charge\n"
          ]
        }
      ],
      "source": [
        "# Your code here\n",
        "# Parent class: Vehicle\n",
        "class Vehicle:\n",
        "    def fare(self):\n",
        "        return \"Base fare\"\n",
        "\n",
        "# Child class: Bus (inherits from Vehicle)\n",
        "class Bus(Vehicle):\n",
        "    # Hint: Override fare method to include extra charges\n",
        "    def fare(self):\n",
        "        return \"Base fare with extra charge\"\n",
        "\n",
        "school_bus = Bus()\n",
        "print(school_bus.fare())  # Expected output: \"Base fare with extra charge\""
      ]
    },
    {
      "cell_type": "markdown",
      "metadata": {
        "id": "JjO4zlAhkEUu"
      },
      "source": [
        "### Exercise 5: Define a Class Attribute\n",
        "Define a property that must have the same value for every class instance (object). Set a default value for `color`."
      ]
    },
    {
      "cell_type": "code",
      "execution_count": 35,
      "metadata": {
        "colab": {
          "base_uri": "https://localhost:8080/"
        },
        "id": "j5J9JKxJkEUu",
        "outputId": "771d891f-1295-4067-d436-4afc832b0042"
      },
      "outputs": [
        {
          "output_type": "stream",
          "name": "stdout",
          "text": [
            "White\n"
          ]
        }
      ],
      "source": [
        "# Your code here\n",
        "class Vehicle:\n",
        "    #class variables are often denoted using a naming convention with uppercase letters\n",
        "    COLOR = \"White\"  # Hint: Define color as a class attribute\n",
        "\n",
        "    def __init__(self, name, max_speed, mileage):\n",
        "        self.name = name\n",
        "        self.max_speed = max_speed\n",
        "        self.mileage = mileage\n",
        "\n",
        "school_bus = Vehicle(\"School Volvo\", 180, 12)\n",
        "print(school_bus.COLOR)  # Expected output: \"White\""
      ]
    },
    {
      "cell_type": "markdown",
      "metadata": {
        "id": "sBG0yYW_kEUu"
      },
      "source": [
        "### Exercise 6: Class Inheritance with Default Fare Calculation\n",
        "Create a `Bus` child class that inherits from the `Vehicle` class. The default fare charge of any vehicle is `seating capacity * 100`. If the vehicle is a bus instance, add an extra 10% on the full fare as a maintenance charge."
      ]
    },
    {
      "cell_type": "code",
      "execution_count": 37,
      "metadata": {
        "colab": {
          "base_uri": "https://localhost:8080/"
        },
        "id": "Gi40B0ftkEUv",
        "outputId": "d0f934cb-c223-41c2-c0f2-294cfb663ca8"
      },
      "outputs": [
        {
          "output_type": "stream",
          "name": "stdout",
          "text": [
            "Total Bus fare is: 5500.0\n"
          ]
        }
      ],
      "source": [
        "# Your code here\n",
        "# Parent class: Vehicle\n",
        "class Vehicle:\n",
        "    def __init__(self, name, mileage, capacity):\n",
        "        self.name = name\n",
        "        self.mileage = mileage\n",
        "        self.capacity = capacity\n",
        "\n",
        "    def fare(self):\n",
        "        return self.capacity * 100\n",
        "\n",
        "# Child class: Bus (inherits from Vehicle)\n",
        "class Bus(Vehicle):\n",
        "    # Hint: Override fare method to include maintenance charge\n",
        "    def fare(self):\n",
        "        base_fare = super().fare()\n",
        "        maintenance_charge = 0.10 * base_fare\n",
        "        return base_fare + maintenance_charge\n",
        "\n",
        "school_bus = Bus(\"School Volvo\", 12, 50)\n",
        "print(\"Total Bus fare is:\", school_bus.fare())  # Expected output: Total Bus fare is: (calculated amount)"
      ]
    },
    {
      "cell_type": "markdown",
      "metadata": {
        "id": "VED515_qkEUv"
      },
      "source": [
        "### Exercise 7: Check Type of an Object\n",
        "Write a program to determine which class a given object belongs to."
      ]
    },
    {
      "cell_type": "code",
      "execution_count": 38,
      "metadata": {
        "colab": {
          "base_uri": "https://localhost:8080/"
        },
        "id": "kmXUZYOakEUv",
        "outputId": "c188e99f-b747-4588-cc3e-10c7a3aea0ab"
      },
      "outputs": [
        {
          "output_type": "stream",
          "name": "stdout",
          "text": [
            "<class '__main__.Bus'>\n"
          ]
        }
      ],
      "source": [
        "# Your code here\n",
        "school_bus = Bus(\"School Volvo\", 12, 50)\n",
        "print(type(school_bus))  # Expected output: <class '__main__.Bus'>"
      ]
    },
    {
      "cell_type": "markdown",
      "metadata": {
        "id": "pcW5iGDqkEUv"
      },
      "source": [
        "### Exercise 8: Check Instance of Class\n",
        "Determine if `school_bus` is also an instance of the `Vehicle` class.\n"
      ]
    },
    {
      "cell_type": "code",
      "execution_count": 39,
      "metadata": {
        "colab": {
          "base_uri": "https://localhost:8080/"
        },
        "id": "v2KOftIOkEUv",
        "outputId": "b3d0c9a1-f7dd-452d-ddb1-ec09b0ea58c7"
      },
      "outputs": [
        {
          "output_type": "stream",
          "name": "stdout",
          "text": [
            "True\n"
          ]
        }
      ],
      "source": [
        "# Your code here\n",
        "# Check if school_bus is an instance of Vehicle\n",
        "print(isinstance(school_bus, Vehicle))  # Expected output: True or False based on inheritance"
      ]
    },
    {
      "cell_type": "markdown",
      "metadata": {
        "id": "saUMnjsVkEUv"
      },
      "source": [
        "### Exercise Completion  \n",
        "Once you have completed all exercises:\n",
        "- Review your solutions.\n",
        "- Ensure your code is well-documented with comments explaining your logic.\n",
        "- Save your notebook for submission or further review.\n",
        "\n",
        "Happy coding! Enjoy exploring Object-Oriented Programming with Python!\n"
      ]
    },
    {
      "cell_type": "code",
      "source": [],
      "metadata": {
        "id": "GFfVIG2xxRHH"
      },
      "execution_count": null,
      "outputs": []
    }
  ],
  "metadata": {
    "kernelspec": {
      "display_name": ".venv",
      "language": "python",
      "name": "python3"
    },
    "language_info": {
      "codemirror_mode": {
        "name": "ipython",
        "version": 3
      },
      "file_extension": ".py",
      "mimetype": "text/x-python",
      "name": "python",
      "nbconvert_exporter": "python",
      "pygments_lexer": "ipython3",
      "version": "3.8.0"
    },
    "colab": {
      "provenance": []
    }
  },
  "nbformat": 4,
  "nbformat_minor": 0
}